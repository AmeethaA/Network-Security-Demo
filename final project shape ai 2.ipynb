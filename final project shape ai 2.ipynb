{
  "nbformat": 4,
  "nbformat_minor": 0,
  "metadata": {
    "colab": {
      "name": "Untitled0.ipynb",
      "provenance": []
    },
    "kernelspec": {
      "name": "python3",
      "display_name": "Python 3"
    },
    "language_info": {
      "name": "python"
    }
  },
  "cells": [
    {
      "cell_type": "code",
      "metadata": {
        "id": "ixNaAUkHts8-",
        "outputId": "785e6bf0-9a03-4f8d-d339-2019d22e9a2c",
        "colab": {
          "base_uri": "https://localhost:8080/",
          "height": 128
        }
      },
      "source": [
        "/ some nice big salt\n",
        "$salt = hash($algorithm, $salt);\n",
        "\n",
        "// apply $algorithm $runs times for slowdown\n",
        "while ($runs--) {\n",
        "    $string = hash($algorithm, $string . $salt, $raw);\n",
        "}\n",
        "\n",
        "return $string;\n"
      ],
      "execution_count": 2,
      "outputs": [
        {
          "output_type": "error",
          "ename": "SyntaxError",
          "evalue": "ignored",
          "traceback": [
            "\u001b[0;36m  File \u001b[0;32m\"<ipython-input-2-5ab25dc99351>\"\u001b[0;36m, line \u001b[0;32m2\u001b[0m\n\u001b[0;31m    $salt = hash($algorithm, $salt);\u001b[0m\n\u001b[0m    ^\u001b[0m\n\u001b[0;31mSyntaxError\u001b[0m\u001b[0;31m:\u001b[0m invalid syntax\n"
          ]
        }
      ]
    },
    {
      "cell_type": "code",
      "metadata": {
        "id": "hYr6yzdfttz1"
      },
      "source": [
        ""
      ],
      "execution_count": 1,
      "outputs": []
    }
  ]
}