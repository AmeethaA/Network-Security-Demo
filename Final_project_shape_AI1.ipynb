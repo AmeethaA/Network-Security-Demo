{
  "nbformat": 4,
  "nbformat_minor": 0,
  "metadata": {
    "colab": {
      "name": "Final project shape AI1.ipynb",
      "provenance": []
    },
    "kernelspec": {
      "name": "python3",
      "display_name": "Python 3"
    },
    "language_info": {
      "name": "python"
    }
  },
  "cells": [
    {
      "cell_type": "code",
      "metadata": {
        "colab": {
          "base_uri": "https://localhost:8080/"
        },
        "id": "8Ks1g9n9tV2m",
        "outputId": "679a0be6-496a-4c5d-aea6-728d2323ad93"
      },
      "source": [
        "# Python 3 code to demonstrate the  \n",
        "# working of MD5 (byte - byte) \n",
        "\n",
        "  \n",
        "\n",
        "import hashlib \n",
        "\n",
        "  \n",
        "# encoding GeeksforGeeks using md5 hash \n",
        "# function  \n",
        "\n",
        "result = hashlib.md5(b'GeeksforGeeks') \n",
        "\n",
        "  \n",
        "# printing the equivalent byte value. \n",
        "\n",
        "print(\"The byte equivalent of hash is : \", end =\"\") \n",
        "\n",
        "print(result.digest()) "
      ],
      "execution_count": 1,
      "outputs": [
        {
          "output_type": "stream",
          "text": [
            "The byte equivalent of hash is : b'\\xf1\\xe0ix~\\xcetS\\x1d\\x11%Y\\x94\\\\hq'\n"
          ],
          "name": "stdout"
        }
      ]
    },
    {
      "cell_type": "code",
      "metadata": {
        "id": "PaCuZzVstdCh"
      },
      "source": [
        ""
      ],
      "execution_count": null,
      "outputs": []
    }
  ]
}