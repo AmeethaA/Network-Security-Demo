{
  "nbformat": 4,
  "nbformat_minor": 0,
  "metadata": {
    "colab": {
      "name": "Final project shapeAI.ipynb",
      "provenance": []
    },
    "kernelspec": {
      "name": "python3",
      "display_name": "Python 3"
    },
    "language_info": {
      "name": "python"
    }
  },
  "cells": [
    {
      "cell_type": "code",
      "metadata": {
        "id": "88szj561s2Ny"
      },
      "source": [
        "pca = PCA(3) \n",
        "pca.fit(zoo_data) \n",
        "\n",
        "  \n",
        "\n",
        "pca_data = pd.DataFrame(pca.transform(zoo_data)) \n",
        "\n",
        "  \n",
        "\n",
        "print(pca_data.head())"
      ],
      "execution_count": null,
      "outputs": []
    },
    {
      "cell_type": "code",
      "metadata": {
        "id": "oKIoFthAs3ZW"
      },
      "source": [
        ""
      ],
      "execution_count": null,
      "outputs": []
    }
  ]
}